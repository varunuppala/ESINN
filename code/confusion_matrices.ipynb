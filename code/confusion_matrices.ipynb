{
 "cells": [
  {
   "cell_type": "code",
   "execution_count": 1,
   "id": "4b811828",
   "metadata": {},
   "outputs": [
    {
     "name": "stderr",
     "output_type": "stream",
     "text": [
      "C:\\Users\\16kin\\anaconda3\\envs\\ml_base\\lib\\site-packages\\torchvision\\io\\image.py:13: UserWarning: Failed to load image Python extension: Could not find module 'C:\\Users\\16kin\\anaconda3\\envs\\ml_base\\Lib\\site-packages\\torchvision\\image.pyd' (or one of its dependencies). Try using the full path with constructor syntax.\n",
      "  warn(f\"Failed to load image Python extension: {e}\")\n"
     ]
    }
   ],
   "source": [
    "import torch\n",
    "import numpy as np\n",
    "import pandas as pd\n",
    "import seaborn as sbn\n",
    "import matplotlib.pyplot as plt\n",
    "\n",
    "from torch.utils.data import DataLoader\n",
    "\n",
    "from training import confusion_matrix_count\n",
    "from dataloading import ShapesDataset\n",
    "from model import ConvNeuralNet\n"
   ]
  },
  {
   "cell_type": "code",
   "execution_count": 2,
   "id": "fd64851c",
   "metadata": {},
   "outputs": [
    {
     "name": "stdout",
     "output_type": "stream",
     "text": [
      "lengths of \n",
      " Dataset: 50000, Train: 35000, Validation: 5000 ,Test: 10000\n",
      "Loaded!\n"
     ]
    }
   ],
   "source": [
    "device = (\"cuda\" if torch.cuda.is_available() else \"cpu\")\n",
    "\n",
    "torch.manual_seed(42)\n",
    "np.random.seed(42)\n",
    "\n",
    "batch_size = 16\n",
    "dataset_name = 'CircSqrTriRecElp_BonW'\n",
    "num_models = 4\n",
    "model_save_freq = 50\n",
    "report_freq = 10\n",
    "\n",
    "\n",
    "csv_path = '../data/%s/%s_labels.csv'%(dataset_name, dataset_name)\n",
    "len_dataset = len(pd.read_csv(csv_path))\n",
    "train_size = int(0.7 * len_dataset)\n",
    "val_size = int(0.1 * len_dataset)\n",
    "test_size = int(0.2 * len_dataset)\n",
    "\n",
    "print('lengths of \\n Dataset: {}, Train: {}, Validation: {} ,Test: {}'.format(len_dataset,train_size,val_size,test_size))\n",
    "\n",
    "dataset = ShapesDataset(csv_file = csv_path, nrows=None, device=device)\n",
    "\n",
    "train_val_set,test_set =  torch.utils.data.random_split(dataset,[train_size+val_size,test_size])\n",
    "train_set,val_set =  torch.utils.data.random_split(train_val_set,[train_size,val_size])\n",
    "\n",
    "train_loader = DataLoader(dataset = train_set,batch_size=16,shuffle = True)\n",
    "val_loader = DataLoader(dataset = val_set,batch_size=16,shuffle = True)\n",
    "test_loader = DataLoader(dataset = test_set,batch_size=16,shuffle = True)\n",
    "\n",
    "print('Loaded!')"
   ]
  },
  {
   "cell_type": "code",
   "execution_count": 3,
   "id": "9943b226",
   "metadata": {},
   "outputs": [
    {
     "data": {
      "text/plain": [
       "625"
      ]
     },
     "execution_count": 3,
     "metadata": {},
     "output_type": "execute_result"
    }
   ],
   "source": [
    "len(test_loader)"
   ]
  },
  {
   "cell_type": "code",
   "execution_count": 4,
   "id": "e0282bb2",
   "metadata": {},
   "outputs": [],
   "source": [
    "model_name = 'Circ_BonW_model4'\n",
    "model = torch.load('models/%s/%s.pth'%(model_name, model_name))\n",
    "\n",
    "cm = confusion_matrix_count(model, test_loader)"
   ]
  },
  {
   "cell_type": "code",
   "execution_count": 5,
   "id": "19f61284",
   "metadata": {
    "scrolled": true
   },
   "outputs": [
    {
     "name": "stdout",
     "output_type": "stream",
     "text": [
      "Accuracy: 0.3236\n"
     ]
    }
   ],
   "source": [
    "max_pred = max([max(val) for val in cm.values()])\n",
    "min_pred = min([min(val) for val in cm.values()])\n",
    "\n",
    "top = max(10, max_pred)\n",
    "bot = min(1, min_pred)\n",
    "\n",
    "cmarr = np.zeros((10, top-bot+1))\n",
    "for lab in range(10):\n",
    "    for pred in range(top-bot+1):\n",
    "        cmarr[lab][pred] = cm[lab+1][pred+bot]\n",
    "        \n",
    "acc = sum([cmarr[i][i-bot+1] for i in range(10)]) / np.sum(cmarr)\n",
    "print('Accuracy:', acc)\n",
    "\n",
    "cmarr_scaled = np.zeros((10, top-bot+1))\n",
    "for lab in range(10):\n",
    "    for pred in range(top-bot+1):\n",
    "        cmarr_scaled[lab][pred] = cmarr[lab][pred] / sum(cmarr[lab])\n",
    "\n",
    "# # for label in range(1, 11):\n",
    "# #     for pred, count in cm[label].items():\n",
    "# #         cmarr[label-1][pred-min_pred] = count\n",
    "\n",
    "# acc = sum([cmarr[i][i - min_pred] for i in range(10)]) / np.sum(cmarr)\n",
    "# print('Accuracy:', acc)\n",
    "\n",
    "# cmarr_scaled = np.zeros((10, max(max_pred - min_pred + 1, 10)))\n",
    "# for label in range(1, 11):\n",
    "#     for pred in range(len(cmarr[label-1])):\n",
    "#         cmarr_scaled[label-1][pred] = cmarr[label-1][pred] / sum(cmarr[label-1])"
   ]
  },
  {
   "cell_type": "code",
   "execution_count": 7,
   "id": "281a7e7a",
   "metadata": {},
   "outputs": [
    {
     "data": {
      "image/png": "[encoded data removed]",
      "text/plain": [
       "<Figure size 720x720 with 2 Axes>"
      ]
     },
     "metadata": {
      "needs_background": "light"
     },
     "output_type": "display_data"
    }
   ],
   "source": [
    "plt.figure(figsize=(10,10))\n",
    "sbn.heatmap(cmarr_scaled, xticklabels=range(min_pred, max(max_pred+1, 11)), yticklabels=range(1,11), annot=False)\n",
    "plt.show()"
   ]
  },
  {
   "cell_type": "code",
   "execution_count": null,
   "id": "8b13ff99",
   "metadata": {},
   "outputs": [],
   "source": []
  }
 ],
 "metadata": {
  "kernelspec": {
   "display_name": "ml_base",
   "language": "python",
   "name": "ml_base"
  },
  "language_info": {
   "codemirror_mode": {
    "name": "ipython",
    "version": 3
   },
   "file_extension": ".py",
   "mimetype": "text/x-python",
   "name": "python",
   "nbconvert_exporter": "python",
   "pygments_lexer": "ipython3",
   "version": "3.9.12"
  }
 },
 "nbformat": 4,
 "nbformat_minor": 5
}
